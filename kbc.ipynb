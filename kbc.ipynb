{
 "cells": [
  {
   "cell_type": "code",
   "execution_count": null,
   "id": "a7f1b13a-5da4-4c78-b15f-6afa93c7808e",
   "metadata": {},
   "outputs": [],
   "source": [
    "question = []\n",
    "levels = [1000 , 2000, 3000 , 4000 , 5000, 10000, 20000, 40000 , 80000 , 160000 , 320000, 640000, 1250000 , 2500000 , 5000000, 10000000]\n",
    "for i in range(0 , len(questions)):\n",
    "    question = questions[i]\n",
    "    print(f\"questions for rs.{levels[i]}\")\n",
    "    print(f\" a. {question[1]}                    b. {question[2]}\")\n",
    "    print(f\" a. {question[3]}                    b. {question[4]}\")\n",
    "    reply = int(input(\"enter your answer\"))\n",
    "    money = 0\n",
    "    if(reply == question[-1]):\n",
    "        print(f\"correct answer you have won {level[i]}\")\n",
    "        if i == 4:\n",
    "            money = 5000\n",
    "        elif i == 9 :\n",
    "            money = 320000 \n",
    "        elif i ==  14:\n",
    "            money == 10000000\n",
    "            \n",
    "    else:\n",
    "        print(\"wrong answer \")\n",
    "        break\n",
    "print(f\"you are taking {money} home\")        \n",
    "    "
   ]
  },
  {
   "cell_type": "code",
   "execution_count": null,
   "id": "15c00752-2ffd-411b-ae90-d46cc43755a4",
   "metadata": {},
   "outputs": [],
   "source": []
  }
 ],
 "metadata": {
  "kernelspec": {
   "display_name": "Python 3 (ipykernel)",
   "language": "python",
   "name": "python3"
  },
  "language_info": {
   "codemirror_mode": {
    "name": "ipython",
    "version": 3
   },
   "file_extension": ".py",
   "mimetype": "text/x-python",
   "name": "python",
   "nbconvert_exporter": "python",
   "pygments_lexer": "ipython3",
   "version": "3.9.13"
  }
 },
 "nbformat": 4,
 "nbformat_minor": 5
}
